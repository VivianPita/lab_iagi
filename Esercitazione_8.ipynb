{
  "nbformat": 4,
  "nbformat_minor": 0,
  "metadata": {
    "colab": {
      "provenance": [],
      "authorship_tag": "ABX9TyORuOFOgBZ/cj1C0lwwqx64",
      "include_colab_link": true
    },
    "kernelspec": {
      "name": "python3",
      "display_name": "Python 3"
    },
    "language_info": {
      "name": "python"
    }
  },
  "cells": [
    {
      "cell_type": "markdown",
      "metadata": {
        "id": "view-in-github",
        "colab_type": "text"
      },
      "source": [
        "<a href=\"https://colab.research.google.com/github/VivianPita/lab_iagi/blob/main/Esercitazione_8.ipynb\" target=\"_parent\"><img src=\"https://colab.research.google.com/assets/colab-badge.svg\" alt=\"Open In Colab\"/></a>"
      ]
    },
    {
      "cell_type": "code",
      "execution_count": 1,
      "metadata": {
        "colab": {
          "base_uri": "https://localhost:8080/"
        },
        "id": "ZOaHtgaaUx6V",
        "outputId": "a822d053-b0b6-431b-f02f-5d936cf49ebb"
      },
      "outputs": [
        {
          "output_type": "stream",
          "name": "stdout",
          "text": [
            "--2024-03-04 21:17:06--  https://storage.googleapis.com/quickdraw_dataset/full/numpy_bitmap/camel.npy\n",
            "Resolving storage.googleapis.com (storage.googleapis.com)... 209.85.200.207, 209.85.234.207, 108.177.112.207, ...\n",
            "Connecting to storage.googleapis.com (storage.googleapis.com)|209.85.200.207|:443... connected.\n",
            "HTTP request sent, awaiting response... 200 OK\n",
            "Length: 95176896 (91M) [application/octet-stream]\n",
            "Saving to: ‘camel.npy’\n",
            "\n",
            "camel.npy           100%[===================>]  90.77M  81.6MB/s    in 1.1s    \n",
            "\n",
            "2024-03-04 21:17:07 (81.6 MB/s) - ‘camel.npy’ saved [95176896/95176896]\n",
            "\n",
            "--2024-03-04 21:17:07--  https://storage.googleapis.com/quickdraw_dataset/full/numpy_bitmap/dog.npy\n",
            "Resolving storage.googleapis.com (storage.googleapis.com)... 209.85.200.207, 209.85.234.207, 108.177.112.207, ...\n",
            "Connecting to storage.googleapis.com (storage.googleapis.com)|209.85.200.207|:443... connected.\n",
            "HTTP request sent, awaiting response... 200 OK\n",
            "Length: 119292736 (114M) [application/octet-stream]\n",
            "Saving to: ‘dog.npy’\n",
            "\n",
            "dog.npy             100%[===================>] 113.77M   200MB/s    in 0.6s    \n",
            "\n",
            "2024-03-04 21:17:08 (200 MB/s) - ‘dog.npy’ saved [119292736/119292736]\n",
            "\n",
            "--2024-03-04 21:17:08--  https://storage.googleapis.com/quickdraw_dataset/full/numpy_bitmap/face.npy\n",
            "Resolving storage.googleapis.com (storage.googleapis.com)... 209.85.200.207, 209.85.234.207, 108.177.112.207, ...\n",
            "Connecting to storage.googleapis.com (storage.googleapis.com)|209.85.200.207|:443... connected.\n",
            "HTTP request sent, awaiting response... 200 OK\n",
            "Length: 126746224 (121M) [application/octet-stream]\n",
            "Saving to: ‘face.npy’\n",
            "\n",
            "face.npy            100%[===================>] 120.87M   139MB/s    in 0.9s    \n",
            "\n",
            "2024-03-04 21:17:09 (139 MB/s) - ‘face.npy’ saved [126746224/126746224]\n",
            "\n",
            "--2024-03-04 21:17:09--  https://storage.googleapis.com/quickdraw_dataset/full/numpy_bitmap/horse.npy\n",
            "Resolving storage.googleapis.com (storage.googleapis.com)... 209.85.200.207, 209.85.234.207, 108.177.112.207, ...\n",
            "Connecting to storage.googleapis.com (storage.googleapis.com)|209.85.200.207|:443... connected.\n",
            "HTTP request sent, awaiting response... 200 OK\n",
            "Length: 139776304 (133M) [application/octet-stream]\n",
            "Saving to: ‘horse.npy’\n",
            "\n",
            "horse.npy           100%[===================>] 133.30M   150MB/s    in 0.9s    \n",
            "\n",
            "2024-03-04 21:17:10 (150 MB/s) - ‘horse.npy’ saved [139776304/139776304]\n",
            "\n",
            "--2024-03-04 21:17:10--  https://storage.googleapis.com/quickdraw_dataset/full/numpy_bitmap/ice%20cream.npy\n",
            "Resolving storage.googleapis.com (storage.googleapis.com)... 209.85.200.207, 209.85.234.207, 108.177.112.207, ...\n",
            "Connecting to storage.googleapis.com (storage.googleapis.com)|209.85.200.207|:443... connected.\n",
            "HTTP request sent, awaiting response... 200 OK\n",
            "Length: 96536352 (92M) [application/octet-stream]\n",
            "Saving to: ‘ice cream.npy’\n",
            "\n",
            "ice cream.npy       100%[===================>]  92.06M  92.9MB/s    in 1.0s    \n",
            "\n",
            "2024-03-04 21:17:11 (92.9 MB/s) - ‘ice cream.npy’ saved [96536352/96536352]\n",
            "\n",
            "--2024-03-04 21:17:11--  https://storage.googleapis.com/quickdraw_dataset/full/numpy_bitmap/moon.npy\n",
            "Resolving storage.googleapis.com (storage.googleapis.com)... 209.85.200.207, 209.85.234.207, 108.177.112.207, ...\n",
            "Connecting to storage.googleapis.com (storage.googleapis.com)|209.85.200.207|:443... connected.\n",
            "HTTP request sent, awaiting response... 200 OK\n",
            "Length: 95382304 (91M) [application/octet-stream]\n",
            "Saving to: ‘moon.npy’\n",
            "\n",
            "moon.npy            100%[===================>]  90.96M   122MB/s    in 0.7s    \n",
            "\n",
            "2024-03-04 21:17:12 (122 MB/s) - ‘moon.npy’ saved [95382304/95382304]\n",
            "\n",
            "--2024-03-04 21:17:12--  https://storage.googleapis.com/quickdraw_dataset/full/numpy_bitmap/microphone.npy\n",
            "Resolving storage.googleapis.com (storage.googleapis.com)... 209.85.200.207, 209.85.234.207, 108.177.112.207, ...\n",
            "Connecting to storage.googleapis.com (storage.googleapis.com)|209.85.200.207|:443... connected.\n",
            "HTTP request sent, awaiting response... 200 OK\n",
            "Length: 94526960 (90M) [application/octet-stream]\n",
            "Saving to: ‘microphone.npy’\n",
            "\n",
            "microphone.npy      100%[===================>]  90.15M   109MB/s    in 0.8s    \n",
            "\n",
            "2024-03-04 21:17:13 (109 MB/s) - ‘microphone.npy’ saved [94526960/94526960]\n",
            "\n",
            "--2024-03-04 21:17:13--  https://storage.googleapis.com/quickdraw_dataset/full/numpy_bitmap/onion.npy\n",
            "Resolving storage.googleapis.com (storage.googleapis.com)... 209.85.200.207, 209.85.234.207, 108.177.112.207, ...\n",
            "Connecting to storage.googleapis.com (storage.googleapis.com)|209.85.200.207|:443... connected.\n",
            "HTTP request sent, awaiting response... 200 OK\n",
            "Length: 103720928 (99M) [application/octet-stream]\n",
            "Saving to: ‘onion.npy’\n",
            "\n",
            "onion.npy           100%[===================>]  98.92M  66.9MB/s    in 1.5s    \n",
            "\n",
            "2024-03-04 21:17:15 (66.9 MB/s) - ‘onion.npy’ saved [103720928/103720928]\n",
            "\n",
            "--2024-03-04 21:17:15--  https://storage.googleapis.com/quickdraw_dataset/full/numpy_bitmap/pillow.npy\n",
            "Resolving storage.googleapis.com (storage.googleapis.com)... 209.85.200.207, 209.85.234.207, 108.177.112.207, ...\n",
            "Connecting to storage.googleapis.com (storage.googleapis.com)|209.85.200.207|:443... connected.\n",
            "HTTP request sent, awaiting response... 200 OK\n",
            "Length: 93102432 (89M) [application/octet-stream]\n",
            "Saving to: ‘pillow.npy’\n",
            "\n",
            "pillow.npy          100%[===================>]  88.79M  95.7MB/s    in 0.9s    \n",
            "\n",
            "2024-03-04 21:17:16 (95.7 MB/s) - ‘pillow.npy’ saved [93102432/93102432]\n",
            "\n",
            "--2024-03-04 21:17:16--  https://storage.googleapis.com/quickdraw_dataset/full/numpy_bitmap/potato.npy\n",
            "Resolving storage.googleapis.com (storage.googleapis.com)... 209.85.200.207, 209.85.234.207, 108.177.112.207, ...\n",
            "Connecting to storage.googleapis.com (storage.googleapis.com)|209.85.200.207|:443... connected.\n",
            "HTTP request sent, awaiting response... 200 OK\n",
            "Length: 258096016 (246M) [application/octet-stream]\n",
            "Saving to: ‘potato.npy’\n",
            "\n",
            "potato.npy          100%[===================>] 246.14M   129MB/s    in 1.9s    \n",
            "\n",
            "2024-03-04 21:17:18 (129 MB/s) - ‘potato.npy’ saved [258096016/258096016]\n",
            "\n",
            "--2024-03-04 21:17:18--  https://storage.googleapis.com/quickdraw_dataset/full/numpy_bitmap/pond.npy\n",
            "Resolving storage.googleapis.com (storage.googleapis.com)... 209.85.200.207, 209.85.234.207, 108.177.112.207, ...\n",
            "Connecting to storage.googleapis.com (storage.googleapis.com)|209.85.200.207|:443... connected.\n",
            "HTTP request sent, awaiting response... 200 OK\n",
            "Length: 95350160 (91M) [application/octet-stream]\n",
            "Saving to: ‘pond.npy’\n",
            "\n",
            "pond.npy            100%[===================>]  90.93M   105MB/s    in 0.9s    \n",
            "\n",
            "2024-03-04 21:17:19 (105 MB/s) - ‘pond.npy’ saved [95350160/95350160]\n",
            "\n",
            "--2024-03-04 21:17:19--  https://storage.googleapis.com/quickdraw_dataset/full/numpy_bitmap/pool.npy\n",
            "Resolving storage.googleapis.com (storage.googleapis.com)... 209.85.200.207, 209.85.234.207, 108.177.112.207, ...\n",
            "Connecting to storage.googleapis.com (storage.googleapis.com)|209.85.200.207|:443... connected.\n",
            "HTTP request sent, awaiting response... 200 OK\n",
            "Length: 104616256 (100M) [application/octet-stream]\n",
            "Saving to: ‘pool.npy’\n",
            "\n",
            "pool.npy            100%[===================>]  99.77M  79.2MB/s    in 1.3s    \n",
            "\n",
            "2024-03-04 21:17:21 (79.2 MB/s) - ‘pool.npy’ saved [104616256/104616256]\n",
            "\n",
            "--2024-03-04 21:17:21--  https://storage.googleapis.com/quickdraw_dataset/full/numpy_bitmap/The%20Eiffel%20Tower.npy\n",
            "Resolving storage.googleapis.com (storage.googleapis.com)... 209.85.200.207, 209.85.234.207, 108.177.112.207, ...\n",
            "Connecting to storage.googleapis.com (storage.googleapis.com)|209.85.200.207|:443... connected.\n",
            "HTTP request sent, awaiting response... 200 OK\n",
            "Length: 105684064 (101M) [application/octet-stream]\n",
            "Saving to: ‘The Eiffel Tower.npy’\n",
            "\n",
            "The Eiffel Tower.np 100%[===================>] 100.79M   108MB/s    in 0.9s    \n",
            "\n",
            "2024-03-04 21:17:22 (108 MB/s) - ‘The Eiffel Tower.npy’ saved [105684064/105684064]\n",
            "\n"
          ]
        }
      ],
      "source": [
        "!wget -nc https://storage.googleapis.com/quickdraw_dataset/full/numpy_bitmap/camel.npy\n",
        "!wget -nc https://storage.googleapis.com/quickdraw_dataset/full/numpy_bitmap/dog.npy\n",
        "!wget -nc https://storage.googleapis.com/quickdraw_dataset/full/numpy_bitmap/face.npy\n",
        "!wget -nc https://storage.googleapis.com/quickdraw_dataset/full/numpy_bitmap/horse.npy\n",
        "!wget -nc https://storage.googleapis.com/quickdraw_dataset/full/numpy_bitmap/ice%20cream.npy\n",
        "!wget -nc https://storage.googleapis.com/quickdraw_dataset/full/numpy_bitmap/moon.npy\n",
        "!wget -nc https://storage.googleapis.com/quickdraw_dataset/full/numpy_bitmap/microphone.npy\n",
        "!wget -nc https://storage.googleapis.com/quickdraw_dataset/full/numpy_bitmap/onion.npy\n",
        "!wget -nc https://storage.googleapis.com/quickdraw_dataset/full/numpy_bitmap/pillow.npy\n",
        "!wget -nc https://storage.googleapis.com/quickdraw_dataset/full/numpy_bitmap/potato.npy\n",
        "!wget -nc https://storage.googleapis.com/quickdraw_dataset/full/numpy_bitmap/pond.npy\n",
        "!wget -nc https://storage.googleapis.com/quickdraw_dataset/full/numpy_bitmap/pool.npy\n",
        "\n",
        "!wget -nc https://storage.googleapis.com/quickdraw_dataset/full/numpy_bitmap/The%20Eiffel%20Tower.npy"
      ]
    },
    {
      "cell_type": "code",
      "source": [],
      "metadata": {
        "id": "FoFTj8K8Vevy"
      },
      "execution_count": null,
      "outputs": []
    },
    {
      "cell_type": "code",
      "source": [],
      "metadata": {
        "id": "8tfHaU2UVfgK"
      },
      "execution_count": null,
      "outputs": []
    },
    {
      "cell_type": "code",
      "source": [],
      "metadata": {
        "id": "Y8_IRK46Vfbp"
      },
      "execution_count": null,
      "outputs": []
    },
    {
      "cell_type": "code",
      "source": [],
      "metadata": {
        "id": "hytfAhPVVfVx"
      },
      "execution_count": null,
      "outputs": []
    },
    {
      "cell_type": "code",
      "source": [],
      "metadata": {
        "id": "lfHy19e4VfH6"
      },
      "execution_count": null,
      "outputs": []
    }
  ]
}